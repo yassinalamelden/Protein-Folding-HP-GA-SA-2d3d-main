{
 "cells": [
  {
   "cell_type": "markdown",
   "id": "280d6141",
   "metadata": {},
   "source": [
    "# Protein Folding using Genetic Algorithm (GA) on HP Model\n",
    "\n",
    "This notebook processes protein sequences in **FASTA format** and applies a **Genetic Algorithm** to find low-energy foldings under the HP lattice model.  \n",
    "The program supports:\n",
    "\n",
    "- **Square 2D Lattice**\n",
    "- **Triangular 2D Lattice**\n",
    "- **Cubic 3D Lattice**\n",
    "\n",
    "The steps include:\n",
    "1. Loading `.fasta` sequence files.\n",
    "2. Converting amino acid sequences to HP sequences.\n",
    "3. Running the GA-based folding method for each lattice type.\n",
    "4. Calculating minimum energies and deviations from benchmark optimal energies.\n",
    "5. Visualizing the resulting protein folds."
   ]
  },
  {
   "cell_type": "markdown",
   "id": "a077b87e",
   "metadata": {},
   "source": [
    "## **Dataset**\n",
    "\n",
    "The dataset contains protein sequences in **FASTA format** from the RCSB Protein Data Bank.\n",
    "\n",
    "| File Name             | Protein ID | Chain | Protein Name | Organism            | Sequence Length | Sequence                             |\n",
    "|-----------------------|------------|-------|--------------|---------------------|-----------------|---------------------------------------|\n",
    "| rcsb_pdb_1A7F.fasta   | 1A7F_1     | A     | Insulin      | Homo sapiens (9606) | 21              | GIVEQCCTSICSLYQLENYCN                 |\n",
    "| rcsb_pdb_1A7F.fasta   | 1A7F_2     | B     | Insulin      | Homo sapiens (9606) | 29              | FVNQHLCGSHLVEALELVCGERGGFYTPK         |\n",
    "| rcsb_pdb_1APH.fasta   | 1APH_1     | A     | Insulin      | Bos taurus (9913)   | 21              | GIVEQCCASVCSLYQLENYCN                 |\n",
    "| rcsb_pdb_1APH.fasta   | 1APH_2     | B     | Insulin      | Bos taurus (9913)   | 30              | FVNQHLCGSHLVEALYLVCGERGFFYTPKA        |\n",
    "| rcsb_pdb_1B17.fasta   | 1B17_1     | A     | Insulin      | Sus scrofa (9823)   | 21              | GIVEQCCTSICSLYQLENYCN                 |\n",
    "| rcsb_pdb_1B17.fasta   | 1B17_2     | B     | Insulin      | Sus scrofa (9823)   | 30              | FVNQHLCGSHLVEALYLVCGERGFFYTPKA        |\n",
    "\n",
    "\n",
    "**Notes:**\n",
    "- **Protein ID**: Taken from the FASTA header.\n",
    "- **Chain**: The specific chain label in the protein structure.\n",
    "- **Sequence Length**: Number of amino acids in the chain.\n",
    "- **Sequence**: Single-letter amino acid codes.\n",
    "\n",
    "These sequences are converted to **HP sequences** where:\n",
    "- **H** = Hydrophobic residues: {A, G, I, L, M, F, P, W, V}\n",
    "- **P** = Polar residues: {R, N, D, C, E, Q, H, K, S, T, Y}"
   ]
  },
  {
   "cell_type": "markdown",
   "id": "e851993b",
   "metadata": {},
   "source": [
    "## **Methodology**\n",
    "\n",
    "### HP Model Representation\n",
    "Proteins are simplified to a binary sequence:\n",
    "- **H** (hydrophobic)\n",
    "- **P** (polar)\n",
    "\n",
    "### Lattice Types\n",
    "1. **Square 2D Lattice** : movement allowed in 4 directions: up, down, left, right.\n",
    "2. **Triangular 2D Lattice** : movement allowed in 6 directions at 60° intervals.\n",
    "3. **Cubic 3D Lattice** : movement allowed in 6 directions in 3D space.\n",
    "\n",
    "### Genetic Algorithm (GA) Workflow\n",
    "1. **Initialization** : generate a random population of folds.\n",
    "2. **Fitness Evaluation** : calculate HP model energy + compactness penalty.\n",
    "3. **Selection** : tournament selection to choose parents.\n",
    "4. **Crossover** : multi-point crossover to create offspring.\n",
    "5. **Mutation** : introduce random changes to maintain diversity.\n",
    "6. **Replacement** : keep best folds and remove duplicates.\n",
    "7. **Termination** : after a fixed number of generations.\n",
    "\n",
    "### Energy Calculation\n",
    "Energy is based on the number of **non-consecutive H–H contacts**.  \n",
    "- More H–H contacts → lower energy (more stable fold).\n",
    "\n",
    "### Visualization\n",
    "- **2D plots** for square & triangular lattices.\n",
    "- **3D plots** for cubic lattices.\n"
   ]
  },
  {
   "cell_type": "markdown",
   "id": "8586e22d",
   "metadata": {},
   "source": [
    "The code takes sequences in **FASTA** or **HP** format, folds them using GA, calculates energies, and visualizes the best fold.\n"
   ]
  },
  {
   "cell_type": "markdown",
   "id": "4067cca8",
   "metadata": {},
   "source": [
    "## 1- Importing Libraries\n",
    "\n",
    "We use:\n",
    "- `random` & `heapq` for GA operations\n",
    "- `matplotlib` for visualization\n",
    "- `math` for lattice geometry\n",
    "- `time` for runtime measurement\n",
    "- `sys` for program control\n",
    "- `mpl_toolkits.mplot3d` for 3D visualization\n"
   ]
  },
  {
   "cell_type": "code",
   "execution_count": null,
   "id": "356a7fe3",
   "metadata": {},
   "outputs": [],
   "source": [
    "import random\n",
    "import heapq\n",
    "import matplotlib.pyplot as plt\n",
    "import math\n",
    "import sys\n",
    "import time\n",
    "from mpl_toolkits.mplot3d import Axes3D"
   ]
  },
  {
   "cell_type": "markdown",
   "id": "2128bdb8",
   "metadata": {},
   "source": [
    "## 2-Lattice Directions\n",
    "\n",
    "Defines movement directions for:\n",
    "- **Square 2D lattice** — 4 directions (up, right, down, left)\n",
    "- **Cubic 3D lattice** — 6 directions in 3D\n",
    "- **Triangular 2D lattice** — 6 directions at 60° intervals\n"
   ]
  },
  {
   "cell_type": "code",
   "execution_count": null,
   "id": "c0c87390",
   "metadata": {},
   "outputs": [],
   "source": [
    "# Directions for 2D lattice\n",
    "square_directions = [(0, 1), (1, 0), (0, -1), (-1, 0)]\n",
    "\n",
    "## 3D Cubic Directions\n",
    "cubic_directions = [(1, 0, 0), (-1, 0, 0), (0, 1, 0), (0, -1, 0), (0, 0, 1), (0, 0, -1)]\n",
    "\n",
    "# Directions for 2D Trianguler Lattice:\n",
    "trianguler_directions = [\n",
    "    (1.0, 0.0),                                     # 0: Right\n",
    "    (0.5, math.sqrt(3)/2),                          # 1: Up-Right\n",
    "    (-0.5, math.sqrt(3)/2),                         # 2: Up-Left\n",
    "    (-1.0, 0.0),                                    # 3: Left\n",
    "    (-0.5, -math.sqrt(3)/2),                        # 4: Down-Left\n",
    "    (0.5, -math.sqrt(3)/2)                          # 5: Down-Right\n",
    "]"
   ]
  },
  {
   "cell_type": "markdown",
   "id": "7f2ee45e",
   "metadata": {},
   "source": [
    "## 3- Benchmark Energies\n",
    "\n",
    "Known optimal energies for specific sequence lengths in 2D and 3D lattices.  \n",
    "Used to calculate deviation from optimal folding results.\n"
   ]
  },
  {
   "cell_type": "code",
   "execution_count": null,
   "id": "b7dae437",
   "metadata": {},
   "outputs": [],
   "source": [
    "optimal_2d = {\n",
    "    20: -9, \n",
    "    24: -9, \n",
    "    25: -8, \n",
    "    36: -14,\n",
    "    48: -23, \n",
    "    50: -21, \n",
    "    60: -36,\n",
    "    64: -42, \n",
    "    85: -53\n",
    "}\n",
    "\n",
    "optimal_3d = {\n",
    "    20: -11, \n",
    "    24: -13, \n",
    "    25: -9, \n",
    "    36: -18, \n",
    "    48: -31, \n",
    "    50: -34, \n",
    "    60: -55, \n",
    "    64: -59\n",
    "}"
   ]
  },
  {
   "cell_type": "markdown",
   "id": "a72e399d",
   "metadata": {},
   "source": [
    "## 4- Converting FASTA Sequence to HP Sequence\n",
    "\n",
    "Maps amino acids to:\n",
    "- **H** (Hydrophobic): A, G, I, L, M, F, P, W, V\n",
    "- **P** (Polar): R, N, D, C, E, Q, H, K, S, T, Y\n"
   ]
  },
  {
   "cell_type": "code",
   "execution_count": null,
   "id": "50f111cf",
   "metadata": {},
   "outputs": [],
   "source": [
    "def fasta_to_hp(fasta_sequence):\n",
    "    \"\"\"\n",
    "    Converts a FASTA amino acid sequence to HP model using:\n",
    "    H = Hydrophobic {A, G, I, L, M, F, P, W, V}\n",
    "    P = Polar       {R, N, D, C, E, Q, H, K, S, T, Y}\n",
    "    \"\"\"\n",
    "    \n",
    "    h_residues = {'A', 'G','I', 'L', 'M', 'F', 'P', 'W', 'V'}\n",
    "    p_residues = {'R', 'N', 'D', 'C', 'E', 'Q', 'H','K', 'S', 'T', 'Y'}\n",
    "    \n",
    "    sequence = fasta_sequence.upper()\n",
    "    \n",
    "    hp_sequence = ''\n",
    "    \n",
    "    # aa : amino acid\n",
    "    for aa in sequence:\n",
    "        if aa in h_residues:\n",
    "            hp_sequence += 'H'\n",
    "        elif aa in p_residues:\n",
    "            hp_sequence += 'P'\n",
    "        else:\n",
    "            raise ValueError(f\"Unkown amino acid '{aa}' in sequence. \")\n",
    "    return hp_sequence"
   ]
  },
  {
   "cell_type": "markdown",
   "id": "41d3e6d5",
   "metadata": {},
   "source": [
    "## 5- Folding Functions\n",
    "\n",
    "Functions for generating protein coordinates from HP sequences:\n",
    "- **Square 2D folding**\n"
   ]
  },
  {
   "cell_type": "code",
   "execution_count": null,
   "id": "7e492de1",
   "metadata": {},
   "outputs": [],
   "source": [
    "def square_fold_protein(sequence, moves):\n",
    "    square_direction = 0\n",
    "    square_position = (0, 0)\n",
    "    square_coords = [square_position]\n",
    "    square_occupied = {square_position}\n",
    "    for move in moves:\n",
    "        square_direction = (square_direction - 1) % 4 if move == 1 else (square_direction + 1) % 4 if move == 2 else square_direction\n",
    "        dx, dy = square_directions[square_direction]\n",
    "        square_position = (square_position[0] + dx, square_position[1] + dy)\n",
    "        if square_position in square_occupied:\n",
    "            return None\n",
    "        square_coords.append(square_position)\n",
    "        square_occupied.add(square_position)\n",
    "    return square_coord"
   ]
  },
  {
   "cell_type": "markdown",
   "id": "46252e5d",
   "metadata": {},
   "source": [
    "- **Triangular 2D folding**"
   ]
  },
  {
   "cell_type": "code",
   "execution_count": null,
   "id": "34f4f1f6",
   "metadata": {},
   "outputs": [],
   "source": [
    "def rotate_yaw_left(d): x, y, z = d; return (-z, y, x)\n",
    "def rotate_yaw_right(d): x, y, z = d; return (z, y, -x)\n",
    "def rotate_pitch_up(d): x, y, z = d; return (x, -z, y)\n",
    "def rotate_pitch_down(d): x, y, z = d; return (x, z, -y)\n",
    "def reverse_direction(d): return tuple(-v for v in d)\n",
    "\n",
    "def fold_protein_3d_full(seq, moves):\n",
    "    pos, coords, occupied = (0, 0, 0), [(0, 0, 0)], {(0, 0, 0)}\n",
    "    direction = (1, 0, 0)\n",
    "    for move in moves:\n",
    "        if move == 1: direction = rotate_yaw_left(direction)\n",
    "        elif move == 2: direction = rotate_yaw_right(direction)\n",
    "        elif move == 3: direction = rotate_pitch_up(direction)\n",
    "        elif move == 4: direction = rotate_pitch_down(direction)\n",
    "        elif move == 5: direction = reverse_direction(direction)\n",
    "        dx, dy, dz = direction\n",
    "        pos = (pos[0] + dx, pos[1] + dy, pos[2] + dz)\n",
    "        if pos in occupied: return None\n",
    "        coords.append(pos)\n",
    "        occupied.add(pos)\n",
    "    return coords"
   ]
  },
  {
   "cell_type": "markdown",
   "id": "d74bd435",
   "metadata": {},
   "source": [
    "- **Cubic 3D folding** (with rotations)"
   ]
  },
  {
   "cell_type": "code",
   "execution_count": null,
   "id": "e0343a14",
   "metadata": {},
   "outputs": [],
   "source": [
    "def trianguler_fold_protein(sequence, moves):\n",
    "    trianguler_direction = 0  # Start facing right (index 0)\n",
    "    trianguler_position = (0.0, 0.0)\n",
    "    trianguler_coords = [trianguler_position]\n",
    "    trianguler_occupied = {trianguler_position}\n",
    "\n",
    "    for move in moves:\n",
    "        if move == 1:\n",
    "            trianguler_direction = (trianguler_direction + 1) % 6  # Left turn (60°)\n",
    "        elif move == 2:\n",
    "            trianguler_direction = (trianguler_direction - 1) % 6  # Right turn (-60°)\n",
    "\n",
    "        dx, dy = trianguler_directions[trianguler_direction]\n",
    "        new_position = (round(trianguler_position[0] + dx, 5), round(trianguler_position[1] + dy, 5))\n",
    "\n",
    "        if new_position in trianguler_occupied:\n",
    "            return None\n",
    "\n",
    "        trianguler_coords.append(new_position)\n",
    "        trianguler_occupied.add(new_position)\n",
    "        trianguler_position = new_position\n",
    "        \n",
    "    return trianguler_coords"
   ]
  },
  {
   "cell_type": "markdown",
   "id": "b7234df4",
   "metadata": {},
   "source": [
    "## 6- Energy Calculation\n",
    "\n",
    "Energy is calculated based on non-consecutive H–H contacts:\n",
    "- More H–H contacts → lower energy.\n",
    "Includes compactness penalties to prefer compact folds.\n",
    "\n",
    "1- **2D Square Lattice**\n"
   ]
  },
  {
   "cell_type": "code",
   "execution_count": 1,
   "id": "e7427033",
   "metadata": {},
   "outputs": [],
   "source": [
    "def true_energy(sequence, coords):\n",
    "    if not coords or len(coords) != len(sequence):\n",
    "        return 0\n",
    "    contacts = set()\n",
    "    for i in range(len(sequence)):\n",
    "        if sequence[i] != 'H': \n",
    "            continue\n",
    "        x, y = coords[i]\n",
    "        for dx, dy in square_directions:\n",
    "            neighbor = (x + dx, y + dy)\n",
    "            if neighbor in coords:\n",
    "                j = coords.index(neighbor)\n",
    "                if j < len(sequence) and sequence[j] == 'H' and abs(i - j) > 2:\n",
    "                    contacts.add(tuple(sorted((i, j))))\n",
    "    return -len(contacts)"
   ]
  },
  {
   "cell_type": "markdown",
   "id": "fb1b179d",
   "metadata": {},
   "source": [
    "2- **3D Cubic Lattice**"
   ]
  },
  {
   "cell_type": "code",
   "execution_count": 2,
   "id": "b075478b",
   "metadata": {},
   "outputs": [],
   "source": [
    "def true_3d_energy(seq, coords):\n",
    "    if not coords or len(coords) != len(seq): return 0\n",
    "    contacts = set()\n",
    "    for i, aa in enumerate(seq):\n",
    "        if aa != 'H': continue\n",
    "        x, y, z = coords[i]\n",
    "        for dx, dy, dz in cubic_directions:\n",
    "            n = (x + dx, y + dy, z + dz)\n",
    "            if n in coords:\n",
    "                j = coords.index(n)\n",
    "                if seq[j] == 'H' and abs(i - j) > 2:\n",
    "                    contacts.add(tuple(sorted((i, j))))\n",
    "    return -len(contacts)"
   ]
  },
  {
   "cell_type": "markdown",
   "id": "b0bede6c",
   "metadata": {},
   "source": [
    "## 7- Genetic Algorithm Operators\n",
    "\n",
    "Implements:\n",
    "- **Multi-point crossover**"
   ]
  },
  {
   "cell_type": "code",
   "execution_count": 3,
   "id": "fe47fda0",
   "metadata": {},
   "outputs": [],
   "source": [
    "def multi_point_crossover(p1, p2):\n",
    "    if len(p1) < 3: \n",
    "        return p1\n",
    "    cut1, cut2 = sorted(random.sample(range(1, len(p1)), 2))\n",
    "    return p1[:cut1] + p2[cut1:cut2] + p1[cut2:]"
   ]
  },
  {
   "cell_type": "markdown",
   "id": "200491d4",
   "metadata": {},
   "source": [
    "- **Mutation** (different for 2D and 3D)"
   ]
  },
  {
   "cell_type": "code",
   "execution_count": 4,
   "id": "5836b858",
   "metadata": {},
   "outputs": [],
   "source": [
    "# For 2D\n",
    "def mutate(moves, rate):\n",
    "    return [random.randint(0, 2) if random.random() < rate else m for m in moves]\n",
    "\n",
    "# For 3D\n",
    "def mutate_3d(moves, rate):\n",
    "    return [random.randint(0, 5) if random.random() < rate else m for m in moves]"
   ]
  },
  {
   "cell_type": "markdown",
   "id": "bb8aff92",
   "metadata": {},
   "source": [
    "- **Tournament selection** for parent choice\n"
   ]
  },
  {
   "cell_type": "code",
   "execution_count": 5,
   "id": "c30eadc9",
   "metadata": {},
   "outputs": [],
   "source": [
    "def tournament_selection(scored, size=3, winners=100):\n",
    "    selected = []\n",
    "    actual_size = min(size, len(scored))\n",
    "    if actual_size < 1:\n",
    "        return selected\n",
    "    while len(selected) < winners and len(scored) >= actual_size:\n",
    "        group = random.sample(scored, actual_size)\n",
    "        best = min(group, key=lambda x: x[0])[1]\n",
    "        selected.append(best)\n",
    "    return selected"
   ]
  },
  {
   "cell_type": "markdown",
   "id": "64df6849",
   "metadata": {},
   "source": [
    "- **Duplicate removal** to maintain diversity"
   ]
  },
  {
   "cell_type": "code",
   "execution_count": 6,
   "id": "ae78413f",
   "metadata": {},
   "outputs": [],
   "source": [
    "def remove_twins(population):\n",
    "    return list({tuple(m): m for m in population}.values())"
   ]
  },
  {
   "cell_type": "markdown",
   "id": "3aefa41d",
   "metadata": {},
   "source": [
    "## 8- Genetic Algorithm Implementations\n",
    "\n",
    "Population 200, Each run for 5000 generations by default.\n",
    "\n",
    "Three GA versions:\n",
    "\n",
    "\n",
    "\n",
    "1. **Square 2D**\n"
   ]
  },
  {
   "cell_type": "code",
   "execution_count": 7,
   "id": "c39cbeb0",
   "metadata": {},
   "outputs": [],
   "source": [
    "# GA Main Block for square 2D\n",
    "def square_genetic_algorithm(sequence, generations=5000, pop_size=200):\n",
    "    square_best_energy = float('inf')\n",
    "    square_best_coords = None\n",
    "    population = [generate_random_fold(len(sequence)) for _ in range(pop_size)]\n",
    "\n",
    "    for gen in range(generations):\n",
    "        mutation_rate = max(0.02, 0.2 * (1 - gen / generations))\n",
    "        square_scored = []\n",
    "\n",
    "        for moves in population:\n",
    "            square_coords = square_fold_protein(sequence, moves)\n",
    "            if square_coords and len(square_coords) == len(sequence):\n",
    "                square_energy = true_energy(sequence, square_coords)\n",
    "                penalty = compactness_penalty(square_coords)\n",
    "                square_score = square_energy - penalty\n",
    "                if square_energy < square_best_energy:\n",
    "                    square_best_energy = square_energy\n",
    "                    square_best_coords = square_coords\n",
    "                square_scored.append((square_score, moves))\n",
    "\n",
    "        if len(square_scored) < 2:\n",
    "            population = [generate_random_fold(len(sequence)) for _ in range(pop_size)]\n",
    "            continue\n",
    "\n",
    "        top_folds = heapq.nsmallest(100, square_scored)\n",
    "        elite = [top_folds[0][1]]\n",
    "        parents = tournament_selection(top_folds)\n",
    "\n",
    "        new_population = elite.copy()\n",
    "        while len(new_population) < pop_size and len(parents) >= 2:\n",
    "            p1, p2 = random.sample(parents, 2)\n",
    "            child = mutate(multi_point_crossover(p1, p2), mutation_rate)\n",
    "            new_population.append(child)\n",
    "\n",
    "        population = remove_twins(new_population)\n",
    "\n",
    "    return square_best_energy, square_best_coords"
   ]
  },
  {
   "cell_type": "markdown",
   "id": "e5ee36f0",
   "metadata": {},
   "source": [
    "2. **Triangular 2D** : Population 500 and generation 5000"
   ]
  },
  {
   "cell_type": "code",
   "execution_count": 8,
   "id": "10849ac9",
   "metadata": {},
   "outputs": [],
   "source": [
    "# GA Main Block for Trianguler 2D lattice\n",
    "def trianguler_genetic_algorithm(sequence, generations=5000, pop_size=500):\n",
    "    best_energy = float('inf')\n",
    "    best_coords = None\n",
    "    population = [generate_random_fold(len(sequence)) for _ in range(pop_size)]\n",
    "\n",
    "    for gen in range(generations):\n",
    "        mutation_rate = max(0.02, 0.2 * (1 - gen / generations))\n",
    "        scored = []\n",
    "\n",
    "        for moves in population:\n",
    "            trianguler_coords = trianguler_fold_protein(sequence, moves)\n",
    "            if trianguler_coords and len(trianguler_coords) == len(sequence):\n",
    "                energy = true_energy(sequence, trianguler_coords)\n",
    "                penalty = compactness_penalty(trianguler_coords)\n",
    "                score = energy - penalty\n",
    "                if energy < best_energy:\n",
    "                    best_energy = energy\n",
    "                    best_coords = trianguler_coords\n",
    "                scored.append((score, moves))\n",
    "\n",
    "        if len(scored) < 2:\n",
    "            population = [generate_random_fold(len(sequence)) for _ in range(pop_size)]\n",
    "            continue\n",
    "\n",
    "        top_folds = heapq.nsmallest(100, scored)\n",
    "        elite = [top_folds[0][1]]\n",
    "        parents = tournament_selection(top_folds)\n",
    "\n",
    "        new_population = elite.copy()\n",
    "        while len(new_population) < pop_size and len(parents) >= 2:\n",
    "            p1, p2 = random.sample(parents, 2)\n",
    "            child = mutate(multi_point_crossover(p1, p2), mutation_rate)\n",
    "            new_population.append(child)\n",
    "\n",
    "        population = remove_twins(new_population)\n",
    "\n",
    "    return best_energy, best_coords"
   ]
  },
  {
   "cell_type": "markdown",
   "id": "3423fe62",
   "metadata": {},
   "source": [
    "3. **Cubic 3D**"
   ]
  },
  {
   "cell_type": "code",
   "execution_count": 9,
   "id": "44bdbde2",
   "metadata": {},
   "outputs": [],
   "source": [
    "## GA Main Block for 3D Cubic Lattice\n",
    "def genetic_algorithm_3d(sequence, generations=5000, pop_size=200):\n",
    "    best_energy = float('inf')\n",
    "    best_coords = None\n",
    "    population = []\n",
    "    while len(population) < pop_size:\n",
    "        move = generate_valid_fold(len(sequence))\n",
    "        if move: population.append(move)\n",
    "    stale_count = 0\n",
    "\n",
    "    for gen in range(generations):\n",
    "        mutation_rate = max(0.02, 0.2 * (1 - gen / generations))\n",
    "        scored = []\n",
    "        valid_count = 0\n",
    "\n",
    "        for moves in population:\n",
    "            coords = fold_protein_3d_full(sequence, moves)\n",
    "            if coords and len(coords) == len(sequence):\n",
    "                valid_count += 1\n",
    "                energy = true_3d_energy(sequence, coords)\n",
    "                penalty = 0.3 * compactness_penalty_3d(coords)\n",
    "                score = energy - penalty\n",
    "                if energy < best_energy:\n",
    "                    best_energy = energy\n",
    "                    best_coords = coords\n",
    "                    stale_count = 0\n",
    "                scored.append((score, moves))\n",
    "\n",
    "        if len(scored) < 2:\n",
    "            population = []\n",
    "            while len(population) < pop_size:\n",
    "                move = generate_valid_fold(len(sequence))\n",
    "                if move: population.append(move)\n",
    "            continue\n",
    "\n",
    "        if stale_count >= 200:\n",
    "            population = []\n",
    "            while len(population) < pop_size:\n",
    "                move = generate_valid_fold(len(sequence))\n",
    "                if move: population.append(move)\n",
    "            stale_count = 0\n",
    "            continue\n",
    "\n",
    "        top = heapq.nsmallest(100, scored)\n",
    "        elite = [x[1] for x in top[:5]]\n",
    "        parents = tournament_selection(top, winners=pop_size//2)\n",
    "        new_pop = elite[:]\n",
    "        while len(new_pop) < pop_size and len(parents) >= 2:\n",
    "            p1, p2 = random.sample(parents, 2)\n",
    "            child = mutate_3d(multi_point_crossover(p1, p2), mutation_rate)\n",
    "            coords = fold_protein_3d_full(sequence, child)\n",
    "            if coords and len(coords) == len(sequence):\n",
    "                new_pop.append(child)\n",
    "        population = remove_twins(new_pop)\n",
    "        stale_count += 1\n",
    "\n",
    "    return best_energy, best_coords"
   ]
  },
  {
   "cell_type": "markdown",
   "id": "57e53379",
   "metadata": {},
   "source": [
    "## 9- Visualization\n",
    "\n",
    "Plots the best fold:\n",
    "- **2D lattices** : connected points with color-coded H/P residues\n",
    "- **3D lattice** : connected points in 3D space\n"
   ]
  },
  {
   "cell_type": "code",
   "execution_count": 10,
   "id": "918d789e",
   "metadata": {},
   "outputs": [],
   "source": [
    "def visualize_fold(sequence, coords, min_energy):\n",
    "    if not coords or len(coords) != len(sequence):\n",
    "        print(\"Cannot visualize: invalid folding\")\n",
    "        return\n",
    "    dim = len(coords[0])\n",
    "    colors = ['red' if c == 'H' else 'blue' for c in sequence]\n",
    "\n",
    "    if dim == 2:\n",
    "        xs, ys = zip(*coords)\n",
    "        plt.figure(figsize=(8, 8))\n",
    "        for i in range(1, len(coords)):\n",
    "            x1, y1 = coords[i - 1]\n",
    "            x2, y2 = coords[i]\n",
    "            plt.plot([x1, x2], [y1, y2], 'k-')\n",
    "        for (x, y), color in zip(coords, colors):\n",
    "            plt.plot(x, y, 'o', markersize=12, color=color)\n",
    "        plt.title(f\"2D Protein Fold Visualization (Red=H, Blue=P)\\nMinimum Energy = {min_energy}\", fontsize=18)\n",
    "        plt.xticks(fontsize = 12, fontweight = 'bold')\n",
    "        plt.yticks(fontsize = 12, fontweight = 'bold')\n",
    "        plt.axis('equal')\n",
    "        plt.grid(True)\n",
    "        plt.show()\n",
    "\n",
    "    elif dim == 3:\n",
    "        xs, ys, zs = zip(*coords)\n",
    "        fig = plt.figure(figsize=(10, 8))\n",
    "        ax = fig.add_subplot(111, projection='3d')\n",
    "        for i in range(1, len(coords)):\n",
    "            x1, y1, z1 = coords[i - 1]\n",
    "            x2, y2, z2 = coords[i]\n",
    "            ax.plot([x1, x2], [y1, y2], [z1, z2], 'k-')\n",
    "        for (x, y, z), color in zip(coords, colors):\n",
    "            ax.scatter(x, y, z, color=color, s=100)\n",
    "        ax.set_title(f\"3D Protein Fold Visualization (Red=H, Blue=P)\\nMinimum Energy = {min_energy}\", fontsize=16)\n",
    "        plt.xticks(fontsize = 12, fontweight = 'bold')\n",
    "        plt.yticks(fontsize = 12, fontweight = 'bold')\n",
    "        ax.set_xlabel(\"X\", fontweight = 'bold')\n",
    "        ax.set_ylabel(\"Y\", fontweight = 'bold')\n",
    "        ax.set_zlabel(\"Z\", fontweight = 'bold')\n",
    "        plt.grid(True)\n",
    "        plt.show()"
   ]
  },
  {
   "cell_type": "markdown",
   "id": "e7135814",
   "metadata": {},
   "source": [
    "## Main Program Flow\n",
    "\n",
    "1. Choose sequence type: `FASTA` or `HP`\n",
    "2. Convert to `HP` if needed"
   ]
  },
  {
   "cell_type": "code",
   "execution_count": null,
   "id": "b0adb323",
   "metadata": {},
   "outputs": [],
   "source": [
    "while True:\n",
    "        sequence_type = input(\"Input Type:\\n1. Fasta Sequence (amino acids)\\n2. HP sequence\\nEnter your choice: \").strip()\n",
    "        if sequence_type == '1':\n",
    "            try:\n",
    "               fasta_sequence = \"\".join(input(\"Enter the fasta sequence: \").upper().split())\n",
    "               sequence = fasta_to_hp(fasta_sequence)\n",
    "               print(f\"Converted HP Sequence: {sequence}\")\n",
    "            except ValueError as e:\n",
    "                print(\"Error\", e)\n",
    "                continue\n",
    "        elif sequence_type == '2':\n",
    "            sequence = \"\".join(input(\"Enter the sequence (only H and P): \").upper().split())\n",
    "            if not sequence or any(c not in \"HP\" for c in sequence):\n",
    "                print(\"Invalid sequence. Please enter a string containing only 'H' and 'P'.\")\n",
    "                continue\n",
    "        else:\n",
    "            print(\"Invalid choice. Please enter 1 or 2.\")\n",
    "            continue"
   ]
  },
  {
   "cell_type": "markdown",
   "id": "390fc621",
   "metadata": {},
   "source": [
    "3. Make the Length of the sequence visable for the user"
   ]
  },
  {
   "cell_type": "code",
   "execution_count": null,
   "id": "01af1e4c",
   "metadata": {},
   "outputs": [],
   "source": [
    "length = len(sequence)\n",
    "print(\"Sequence Length:\", length)"
   ]
  },
  {
   "cell_type": "markdown",
   "id": "99c5bb40",
   "metadata": {},
   "source": [
    "4. Choose structure type:\n",
    "   - Square 2D\n",
    "   - Triangular 2D\n",
    "   - Cubic 3D\n",
    "5. Calculate the run time for the program and printing it at the end of the program\n",
    "6. Run the GA\n",
    "7. Compare to benchmark energies and calculating the deviation"
   ]
  },
  {
   "cell_type": "code",
   "execution_count": null,
   "id": "a77d008b",
   "metadata": {},
   "outputs": [],
   "source": [
    "structure_type = input(\"\\nChoose from menu: \\n1. 2D Structure \\n2. 3D Structure \\n3. Exit the program \\nEnter your choice: \").strip().lower()\n",
    "        if structure_type == '1':\n",
    "            lattice_type = input(\"\\nChoose from menu: \\n1. Square 2D Lattice \\n2. Trianguler 2D Lattice \\n3. Exit the program \\nEnter your choice: \").strip().lower()\n",
    "            if lattice_type == '1':\n",
    "                print(\"Running Square 2D Lattice...\\n\")\n",
    "                \n",
    "                start_time = time.time()\n",
    "                min_energy, best_coords = square_genetic_algorithm(sequence, generations=5000, pop_size=200)\n",
    "                \n",
    "                end_time = time.time()\n",
    "                total_time = (end_time - start_time) / 60 \n",
    "                \n",
    "                print(\"Minimum HP Energy:\", min_energy)\n",
    "                if length in optimal_2d:\n",
    "                    optimal = optimal_2d[length]\n",
    "                    deviation = min_energy - optimal\n",
    "                    print(\"Ideal Optimal Energy:\", optimal)\n",
    "                    print(\"Deviation from Optimal:\", deviation)\n",
    "                else:\n",
    "                    optimal_2d = min_energy\n",
    "                    print(\"optimal energy for the sequence: \", optimal_2d)\n",
    "                    \n",
    "            elif lattice_type == '2':\n",
    "                print(\"Running Trianguler 2D Lattice...\\n\")\n",
    "                \n",
    "                start_time = time.time()\n",
    "                \n",
    "                min_energy, best_coords = trianguler_genetic_algorithm(sequence, generations=5000, pop_size=200)\n",
    "                \n",
    "                end_time = time.time()\n",
    "                total_time = (end_time - start_time) / 60\n",
    "                \n",
    "                print(\"Minimum Energy:\", min_energy)\n",
    "                print(\"Ideal Optimal Energy:\", min_energy)\n",
    "            else:\n",
    "                print(\"Thank you. Goodbye!\")\n",
    "                sys.exit()\n",
    "                \n",
    "        elif structure_type == '2':\n",
    "            lattice_type = input(\"\\nChoose from menu: \\n1. Cubic 3D Lattice \\n2. Exit the program \\nEnter your choice: \").strip().lower()\n",
    "            if lattice_type == '1':\n",
    "                print(\"Running 3D Genetic Algorithm...\\n\")\n",
    "                \n",
    "                start_time = time.time()\n",
    "                \n",
    "                min_energy, best_coords = genetic_algorithm_3d(sequence, generations=5000, pop_size=200)\n",
    "                \n",
    "                end_time = time.time()\n",
    "                total_time = (end_time - start_time) / 60\n",
    "                \n",
    "                print(\"Minimum HP Energy:\", min_energy)\n",
    "                if length in optimal_3d:\n",
    "                    print(\"Ideal Optimal Energy:\", optimal_3d[length])\n",
    "                    print(\"Deviation:\", min_energy - optimal_3d[length])\n",
    "                else:\n",
    "                    optimal_3d = min_energy\n",
    "                    print(\"optimal energy for the sequence: \", optimal_3d)\n",
    "            else:\n",
    "                print(\"Thank you. Goodbye!\")\n",
    "                sys.exit()\n",
    "\n",
    "        print(f\"\\nTotal Runtime: {total_time:.2f} minutes\")"
   ]
  },
  {
   "cell_type": "markdown",
   "id": "2447423a",
   "metadata": {},
   "source": [
    "8. Visualize the fold"
   ]
  },
  {
   "cell_type": "code",
   "execution_count": null,
   "id": "63e81d97",
   "metadata": {},
   "outputs": [],
   "source": [
    "visualize_fold(sequence, best_coords, min_energy)"
   ]
  },
  {
   "cell_type": "markdown",
   "id": "d6c1be41",
   "metadata": {},
   "source": [
    "9. Option to run again"
   ]
  },
  {
   "cell_type": "code",
   "execution_count": null,
   "id": "ff061eb3",
   "metadata": {},
   "outputs": [],
   "source": [
    "again = input(\"\\nDo you want to run another sequence again? (yes/no): \").lower()\n",
    "if again != 'yes':\n",
    "print(\"Exiting Program. Goodbye!\")\n",
    "sys.exit()"
   ]
  }
 ],
 "metadata": {
  "kernelspec": {
   "display_name": "Python 3",
   "language": "python",
   "name": "python3"
  },
  "language_info": {
   "codemirror_mode": {
    "name": "ipython",
    "version": 3
   },
   "file_extension": ".py",
   "mimetype": "text/x-python",
   "name": "python",
   "nbconvert_exporter": "python",
   "pygments_lexer": "ipython3",
   "version": "3.13.0"
  }
 },
 "nbformat": 4,
 "nbformat_minor": 5
}
