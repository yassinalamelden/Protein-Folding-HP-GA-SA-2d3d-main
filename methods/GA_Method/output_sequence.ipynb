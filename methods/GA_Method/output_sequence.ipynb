{
 "cells": [
  {
   "cell_type": "markdown",
   "id": "280d6141",
   "metadata": {},
   "source": [
    "# Protein Folding using Genetic Algorithm (GA) on HP Model\n",
    "\n",
    "This notebook processes protein sequences in **FASTA format** and applies a **Genetic Algorithm** to find low-energy foldings under the HP lattice model.  \n",
    "The program supports:\n",
    "\n",
    "- **Square 2D Lattice**\n",
    "- **Triangular 2D Lattice**\n",
    "- **Cubic 3D Lattice**\n",
    "\n",
    "The steps include:\n",
    "1. Loading `.fasta` sequence files.\n",
    "2. Converting amino acid sequences to HP sequences.\n",
    "3. Running the GA-based folding method for each lattice type.\n",
    "4. Calculating minimum energies and deviations from benchmark optimal energies.\n",
    "5. Visualizing the resulting protein folds."
   ]
  },
  {
   "cell_type": "markdown",
   "id": "a077b87e",
   "metadata": {},
   "source": [
    "## **Dataset**\n",
    "\n",
    "The dataset contains protein sequences in **FASTA format** from the RCSB Protein Data Bank.\n",
    "\n",
    "| File Name             | Protein ID | Chain | Protein Name | Organism              | Sequence Length | Sequence                                                                 |\n",
    "|-----------------------|-----------|-------|--------------|-----------------------|----------------|---------------------------------------------------------------------------|\n",
    "| rcsb_pdb_1A7F.fasta   | 1A7F_1    | A     | Insulin      | Homo sapiens (9606)   | 21             | GIVEQCCTSICSLYQLENYCN                                                    |\n",
    "| rcsb_pdb_1A7F.fasta   | 1A7F_2    | B     | Insulin      | Homo sapiens (9606)   | 30             | FVNQHLCGSHLVEALELVCGERGGFYTPK                                            |\n",
    "| rcsb_pdb_1APH.fasta   | 1APH_1    | A     | Insulin      | Bos taurus (9913)                | 21              | GIVEQCCASVCSLYQLENYCN   \n",
    "| rcsb_pdb_1APH.fasta   | 1APH_2    | B     | Insulin      | Bos taurus (9913)                | 30              | FVNQHLCGSHLVEALYLVCGERGFFYTPKA\n",
    "| rcsb_pdb_1B17.fasta   | 1B17_1    | A     | Insulin      | Sus scrofa (9823)                | 21              | GIVEQCCTSICSLYQLENYCN\n",
    "| rcsb_pdb_1B17.fasta   | 1B17_2    | B     | Insulin      | Sus scrofa (9823)                | 30              | FVNQHLCGSHLVEALYLVCGERGFFYTPKA\n",
    "\n",
    "\n",
    "**Notes:**\n",
    "- **Protein ID**: Taken from the FASTA header.\n",
    "- **Chain**: The specific chain label in the protein structure.\n",
    "- **Sequence Length**: Number of amino acids in the chain.\n",
    "- **Sequence**: Single-letter amino acid codes.\n",
    "\n",
    "These sequences are converted to **HP sequences** where:\n",
    "- **H** = Hydrophobic residues: {A, G, I, L, M, F, P, W, V}\n",
    "- **P** = Polar residues: {R, N, D, C, E, Q, H, K, S, T, Y}"
   ]
  },
  {
   "cell_type": "markdown",
   "id": "e851993b",
   "metadata": {},
   "source": [
    "## **Methodology**\n",
    "\n",
    "### HP Model Representation\n",
    "Proteins are simplified to a binary sequence:\n",
    "- **H** (hydrophobic)\n",
    "- **P** (polar)\n",
    "\n",
    "### Lattice Types\n",
    "1. **Square 2D Lattice** : movement allowed in 4 directions: up, down, left, right.\n",
    "2. **Triangular 2D Lattice** : movement allowed in 6 directions at 60° intervals.\n",
    "3. **Cubic 3D Lattice** : movement allowed in 6 directions in 3D space.\n",
    "\n",
    "### Genetic Algorithm (GA) Workflow\n",
    "1. **Initialization** : generate a random population of folds.\n",
    "2. **Fitness Evaluation** : calculate HP model energy + compactness penalty.\n",
    "3. **Selection** : tournament selection to choose parents.\n",
    "4. **Crossover** : multi-point crossover to create offspring.\n",
    "5. **Mutation** : introduce random changes to maintain diversity.\n",
    "6. **Replacement** : keep best folds and remove duplicates.\n",
    "7. **Termination** : after a fixed number of generations.\n",
    "\n",
    "### Energy Calculation\n",
    "Energy is based on the number of **non-consecutive H–H contacts**.  \n",
    "- More H–H contacts → lower energy (more stable fold).\n",
    "\n",
    "### Visualization\n",
    "- **2D plots** for square & triangular lattices.\n",
    "- **3D plots** for cubic lattices.\n"
   ]
  },
  {
   "cell_type": "markdown",
   "id": "8586e22d",
   "metadata": {},
   "source": [
    "The code takes sequences in **FASTA** or **HP** format, folds them using GA, calculates energies, and visualizes the best fold.\n"
   ]
  },
  {
   "cell_type": "markdown",
   "id": "4067cca8",
   "metadata": {},
   "source": [
    "## 1- Importing Libraries\n",
    "\n",
    "We use:\n",
    "- `random` & `heapq` for GA operations\n",
    "- `matplotlib` for visualization\n",
    "- `math` for lattice geometry\n",
    "- `time` for runtime measurement\n",
    "- `sys` for program control\n",
    "- `mpl_toolkits.mplot3d` for 3D visualization\n"
   ]
  },
  {
   "cell_type": "code",
   "execution_count": null,
   "id": "356a7fe3",
   "metadata": {},
   "outputs": [],
   "source": [
    "import random\n",
    "import heapq\n",
    "import matplotlib.pyplot as plt\n",
    "import math\n",
    "import sys\n",
    "import time\n",
    "from mpl_toolkits.mplot3d import Axes3D"
   ]
  },
  {
   "cell_type": "markdown",
   "id": "2128bdb8",
   "metadata": {},
   "source": [
    "## 2-Lattice Directions\n",
    "\n",
    "Defines movement directions for:\n",
    "- **Square 2D lattice** — 4 directions (up, right, down, left)\n",
    "- **Cubic 3D lattice** — 6 directions in 3D\n",
    "- **Triangular 2D lattice** — 6 directions at 60° intervals\n"
   ]
  },
  {
   "cell_type": "code",
   "execution_count": null,
   "id": "c0c87390",
   "metadata": {},
   "outputs": [],
   "source": [
    "# Directions for 2D lattice\n",
    "square_directions = [(0, 1), (1, 0), (0, -1), (-1, 0)]\n",
    "\n",
    "## 3D Cubic Directions\n",
    "cubic_directions = [(1, 0, 0), (-1, 0, 0), (0, 1, 0), (0, -1, 0), (0, 0, 1), (0, 0, -1)]\n",
    "\n",
    "# Directions for 2D Trianguler Lattice:\n",
    "trianguler_directions = [\n",
    "    (1.0, 0.0),                                     # 0: Right\n",
    "    (0.5, math.sqrt(3)/2),                          # 1: Up-Right\n",
    "    (-0.5, math.sqrt(3)/2),                         # 2: Up-Left\n",
    "    (-1.0, 0.0),                                    # 3: Left\n",
    "    (-0.5, -math.sqrt(3)/2),                        # 4: Down-Left\n",
    "    (0.5, -math.sqrt(3)/2)                          # 5: Down-Right\n",
    "]"
   ]
  },
  {
   "cell_type": "markdown",
   "id": "7f2ee45e",
   "metadata": {},
   "source": [
    "## 3- Benchmark Energies\n",
    "\n",
    "Known optimal energies for specific sequence lengths in 2D and 3D lattices.  \n",
    "Used to calculate deviation from optimal folding results.\n"
   ]
  },
  {
   "cell_type": "code",
   "execution_count": null,
   "id": "b7dae437",
   "metadata": {},
   "outputs": [],
   "source": [
    "optimal_2d = {\n",
    "    20: -9, \n",
    "    24: -9, \n",
    "    25: -8, \n",
    "    36: -14,\n",
    "    48: -23, \n",
    "    50: -21, \n",
    "    60: -36,\n",
    "    64: -42, \n",
    "    85: -53\n",
    "}\n",
    "\n",
    "optimal_3d = {\n",
    "    20: -11, \n",
    "    24: -13, \n",
    "    25: -9, \n",
    "    36: -18, \n",
    "    48: -31, \n",
    "    50: -34, \n",
    "    60: -55, \n",
    "    64: -59\n",
    "}"
   ]
  },
  {
   "cell_type": "markdown",
   "id": "a72e399d",
   "metadata": {},
   "source": [
    "## 4- Converting FASTA Sequence to HP Sequence\n",
    "\n",
    "Maps amino acids to:\n",
    "- **H** (Hydrophobic): A, G, I, L, M, F, P, W, V\n",
    "- **P** (Polar): R, N, D, C, E, Q, H, K, S, T, Y\n"
   ]
  },
  {
   "cell_type": "code",
   "execution_count": null,
   "id": "50f111cf",
   "metadata": {},
   "outputs": [],
   "source": [
    "def fasta_to_hp(fasta_sequence):\n",
    "    \"\"\"\n",
    "    Converts a FASTA amino acid sequence to HP model using:\n",
    "    H = Hydrophobic {A, G, I, L, M, F, P, W, V}\n",
    "    P = Polar       {R, N, D, C, E, Q, H, K, S, T, Y}\n",
    "    \"\"\"\n",
    "    \n",
    "    h_residues = {'A', 'G','I', 'L', 'M', 'F', 'P', 'W', 'V'}\n",
    "    p_residues = {'R', 'N', 'D', 'C', 'E', 'Q', 'H','K', 'S', 'T', 'Y'}\n",
    "    \n",
    "    sequence = fasta_sequence.upper()\n",
    "    \n",
    "    hp_sequence = ''\n",
    "    \n",
    "    # aa : amino acid\n",
    "    for aa in sequence:\n",
    "        if aa in h_residues:\n",
    "            hp_sequence += 'H'\n",
    "        elif aa in p_residues:\n",
    "            hp_sequence += 'P'\n",
    "        else:\n",
    "            raise ValueError(f\"Unkown amino acid '{aa}' in sequence. \")\n",
    "    return hp_sequence"
   ]
  },
  {
   "cell_type": "markdown",
   "id": "41d3e6d5",
   "metadata": {},
   "source": [
    "## 5- Folding Functions\n",
    "\n",
    "Functions for generating protein coordinates from HP sequences:\n",
    "- **Square 2D folding**\n"
   ]
  },
  {
   "cell_type": "code",
   "execution_count": null,
   "id": "7e492de1",
   "metadata": {},
   "outputs": [],
   "source": [
    "def square_fold_protein(sequence, moves):\n",
    "    square_direction = 0\n",
    "    square_position = (0, 0)\n",
    "    square_coords = [square_position]\n",
    "    square_occupied = {square_position}\n",
    "    for move in moves:\n",
    "        square_direction = (square_direction - 1) % 4 if move == 1 else (square_direction + 1) % 4 if move == 2 else square_direction\n",
    "        dx, dy = square_directions[square_direction]\n",
    "        square_position = (square_position[0] + dx, square_position[1] + dy)\n",
    "        if square_position in square_occupied:\n",
    "            return None\n",
    "        square_coords.append(square_position)\n",
    "        square_occupied.add(square_position)\n",
    "    return square_coord"
   ]
  },
  {
   "cell_type": "markdown",
   "id": "46252e5d",
   "metadata": {},
   "source": [
    "- **Triangular 2D folding**"
   ]
  },
  {
   "cell_type": "code",
   "execution_count": null,
   "id": "34f4f1f6",
   "metadata": {},
   "outputs": [],
   "source": [
    "def rotate_yaw_left(d): x, y, z = d; return (-z, y, x)\n",
    "def rotate_yaw_right(d): x, y, z = d; return (z, y, -x)\n",
    "def rotate_pitch_up(d): x, y, z = d; return (x, -z, y)\n",
    "def rotate_pitch_down(d): x, y, z = d; return (x, z, -y)\n",
    "def reverse_direction(d): return tuple(-v for v in d)\n",
    "\n",
    "def fold_protein_3d_full(seq, moves):\n",
    "    pos, coords, occupied = (0, 0, 0), [(0, 0, 0)], {(0, 0, 0)}\n",
    "    direction = (1, 0, 0)\n",
    "    for move in moves:\n",
    "        if move == 1: direction = rotate_yaw_left(direction)\n",
    "        elif move == 2: direction = rotate_yaw_right(direction)\n",
    "        elif move == 3: direction = rotate_pitch_up(direction)\n",
    "        elif move == 4: direction = rotate_pitch_down(direction)\n",
    "        elif move == 5: direction = reverse_direction(direction)\n",
    "        dx, dy, dz = direction\n",
    "        pos = (pos[0] + dx, pos[1] + dy, pos[2] + dz)\n",
    "        if pos in occupied: return None\n",
    "        coords.append(pos)\n",
    "        occupied.add(pos)\n",
    "    return coords"
   ]
  },
  {
   "cell_type": "markdown",
   "id": "d74bd435",
   "metadata": {},
   "source": [
    "- **Cubic 3D folding** (with rotations)"
   ]
  },
  {
   "cell_type": "code",
   "execution_count": null,
   "id": "e0343a14",
   "metadata": {},
   "outputs": [],
   "source": [
    "def trianguler_fold_protein(sequence, moves):\n",
    "    trianguler_direction = 0  # Start facing right (index 0)\n",
    "    trianguler_position = (0.0, 0.0)\n",
    "    trianguler_coords = [trianguler_position]\n",
    "    trianguler_occupied = {trianguler_position}\n",
    "\n",
    "    for move in moves:\n",
    "        if move == 1:\n",
    "            trianguler_direction = (trianguler_direction + 1) % 6  # Left turn (60°)\n",
    "        elif move == 2:\n",
    "            trianguler_direction = (trianguler_direction - 1) % 6  # Right turn (-60°)\n",
    "\n",
    "        dx, dy = trianguler_directions[trianguler_direction]\n",
    "        new_position = (round(trianguler_position[0] + dx, 5), round(trianguler_position[1] + dy, 5))\n",
    "\n",
    "        if new_position in trianguler_occupied:\n",
    "            return None\n",
    "\n",
    "        trianguler_coords.append(new_position)\n",
    "        trianguler_occupied.add(new_position)\n",
    "        trianguler_position = new_position\n",
    "        \n",
    "    return trianguler_coords"
   ]
  },
  {
   "cell_type": "markdown",
   "id": "b7234df4",
   "metadata": {},
   "source": [
    "## 6- Energy Calculation\n",
    "\n",
    "Energy is calculated based on non-consecutive H–H contacts:\n",
    "- More H–H contacts → lower energy.\n",
    "Includes compactness penalties to prefer compact folds.\n"
   ]
  },
  {
   "cell_type": "code",
   "execution_count": null,
   "id": "e7427033",
   "metadata": {
    "vscode": {
     "languageId": "plaintext"
    }
   },
   "outputs": [],
   "source": []
  }
 ],
 "metadata": {
  "kernelspec": {
   "display_name": "Python 3",
   "language": "python",
   "name": "python3"
  },
  "language_info": {
   "name": "python",
   "version": "3.13.0"
  }
 },
 "nbformat": 4,
 "nbformat_minor": 5
}
