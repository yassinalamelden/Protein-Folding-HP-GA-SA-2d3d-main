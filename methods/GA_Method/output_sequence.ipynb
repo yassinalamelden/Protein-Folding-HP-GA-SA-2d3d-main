{
 "cells": [
  {
   "cell_type": "markdown",
   "id": "b74fb723",
   "metadata": {},
   "source": [
    "# Protein Folding using Genetic Algorithm (GA) on HP Model\n",
    "\n",
    "This notebook processes protein sequences in **FASTA format** and applies a **Genetic Algorithm** to find low-energy foldings under the HP lattice model.  \n",
    "The program supports:\n",
    "\n",
    "- **Square 2D Lattice**\n",
    "- **Triangular 2D Lattice**\n",
    "- **Cubic 3D Lattice**\n",
    "\n",
    "The steps include:\n",
    "1. Loading `.fasta` sequence files.\n",
    "2. Converting amino acid sequences to HP sequences.\n",
    "3. Running the GA-based folding method for each lattice type.\n",
    "4. Calculating minimum energies and deviations from benchmark optimal energies.\n",
    "5. Visualizing the resulting protein folds.\n"
   ]
  },
  {
   "cell_type": "markdown",
   "id": "de8e8e69",
   "metadata": {},
   "source": [
    "## Dataset\n",
    "\n",
    "The dataset contains protein sequences in **FASTA format** from the RCSB Protein Data Bank.\n",
    "\n",
    "| File Name             | Protein ID | Chain | Protein Name | Organism              | Sequence Length | Sequence                                                                 |\n",
    "|-----------------------|-----------|-------|--------------|-----------------------|----------------|---------------------------------------------------------------------------|\n",
    "| rcsb_pdb_1A7F.fasta   | 1A7F_1    | A     | Insulin      | Homo sapiens (9606)   | 21             | GIVEQCCTSICSLYQLENYCN                                                    |\n",
    "| rcsb_pdb_1A7F.fasta   | 1A7F_2    | B     | Insulin      | Homo sapiens (9606)   | 30             | FVNQHLCGSHLVEALELVCGERGGFYTPK                                            |\n",
    "| rcsb_pdb_1APH.fasta   | 1APH_1    | A     | Insulin      | Bos taurus (9913)                | 21              | GIVEQCCASVCSLYQLENYCN   \n",
    "  rcsb_pdb_1APH.fasta   | 1APH_2    | B     | INsulin      | Bos taurus (9913)                | 30              | FVNQHLCGSHLVEALYLVCGERGFFYTPKA\n",
    "| rcsb_pdb_1B17.fasta   | —         | —     | —            | —                     | —              | *(to be filled from file)*                                               |\n",
    "\n",
    "**Notes:**\n",
    "- **Protein ID**: Taken from the FASTA header.\n",
    "- **Chain**: The specific chain label in the protein structure.\n",
    "- **Sequence Length**: Number of amino acids in the chain.\n",
    "- **Sequence**: Single-letter amino acid codes.\n",
    "\n"
   ]
  },
  {
   "cell_type": "markdown",
   "id": "cb82b553",
   "metadata": {},
   "source": []
  }
 ],
 "metadata": {
  "kernelspec": {
   "display_name": "Python 3",
   "language": "python",
   "name": "python3"
  },
  "language_info": {
   "name": "python",
   "version": "3.13.0"
  }
 },
 "nbformat": 4,
 "nbformat_minor": 5
}
